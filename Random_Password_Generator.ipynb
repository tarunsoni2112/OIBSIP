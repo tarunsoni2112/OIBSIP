{
  "nbformat": 4,
  "nbformat_minor": 0,
  "metadata": {
    "colab": {
      "provenance": [],
      "authorship_tag": "ABX9TyPLjG197As8yuSfikOhgKM4"
    },
    "kernelspec": {
      "name": "python3",
      "display_name": "Python 3"
    },
    "language_info": {
      "name": "python"
    }
  },
  "cells": [
    {
      "cell_type": "code",
      "execution_count": 1,
      "metadata": {
        "colab": {
          "base_uri": "https://localhost:8080/"
        },
        "id": "DrJpMPn4bjNc",
        "outputId": "4097b1f9-0cf5-4ac5-97ac-06328cdc415d"
      },
      "outputs": [
        {
          "output_type": "stream",
          "name": "stdout",
          "text": [
            "Enter password length: 12\n",
            "Enter character types (l for letters, n for numbers, s for symbols): lns\n",
            "Generated password: QhQInEE{:)kq\n"
          ]
        }
      ],
      "source": [
        "import random\n",
        "import string\n",
        "\n",
        "def get_user_input():\n",
        "    while True:\n",
        "        try:\n",
        "            length = int(input(\"Enter password length: \"))\n",
        "            if length <= 0:\n",
        "                raise ValueError(\"Length must be a positive number.\")\n",
        "            break\n",
        "        except ValueError:\n",
        "            print(\"Invalid input. Please enter a positive number.\")\n",
        "\n",
        "    character_types = input(\"Enter character types (l for letters, n for numbers, s for symbols): \")\n",
        "    character_types = set(character_types.lower())\n",
        "    if not character_types.issubset(\"lns\"):\n",
        "        raise ValueError(\"Invalid character types.\")\n",
        "\n",
        "    return length, character_types\n",
        "\n",
        "def generate_password(length, character_types):\n",
        "    characters = \"\"\n",
        "    if \"l\" in character_types:\n",
        "        characters += string.ascii_letters\n",
        "    if \"n\" in character_types:\n",
        "        characters += string.digits\n",
        "    if \"s\" in character_types:\n",
        "        characters += string.punctuation\n",
        "\n",
        "    password = \"\".join(random.choice(characters) for _ in range(length))\n",
        "    return password\n",
        "\n",
        "def main():\n",
        "    length, character_types = get_user_input()\n",
        "    password = generate_password(length, character_types)\n",
        "    print(f\"Generated password: {password}\")\n",
        "\n",
        "if __name__ == \"__main__\":\n",
        "    main()"
      ]
    }
  ]
}