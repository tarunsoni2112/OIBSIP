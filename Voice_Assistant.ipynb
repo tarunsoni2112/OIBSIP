{
  "nbformat": 4,
  "nbformat_minor": 0,
  "metadata": {
    "colab": {
      "provenance": [],
      "authorship_tag": "ABX9TyMhvtwzjtSwyXA0ze/7xJGf",
      "include_colab_link": true
    },
    "kernelspec": {
      "name": "python3",
      "display_name": "Python 3"
    },
    "language_info": {
      "name": "python"
    }
  },
  "cells": [
    {
      "cell_type": "markdown",
      "metadata": {
        "id": "view-in-github",
        "colab_type": "text"
      },
      "source": [
        "<a href=\"https://colab.research.google.com/github/tarunsoni2112/OIBSIP/blob/main/Voice_Assistant.ipynb\" target=\"_parent\"><img src=\"https://colab.research.google.com/assets/colab-badge.svg\" alt=\"Open In Colab\"/></a>"
      ]
    },
    {
      "cell_type": "code",
      "execution_count": null,
      "metadata": {
        "id": "bhZCwbLNVJLP"
      },
      "outputs": [],
      "source": [
        "import speech_recognition as sr\n",
        "from nltk.corpus import wordnet\n",
        "import PyDictionary\n",
        "import gtts\n",
        "\n",
        "def recognize_speech_from_mic(recognizer, microphone):\n",
        "    \"\"\"Transcribe speech from recorded from `microphone`.\n",
        "\n",
        "    Returns a dictionary with three keys:\n",
        "    \"success\": a boolean indicating whether or not the API request was successful\n",
        "    \"error\":   `None` if no error occurred, otherwise a string containing a description of the error\n",
        "    \"transcription\": `None` if speech was not transcribed, otherwise a string containing the transcribed text\n",
        "    \"\"\"\n",
        "    # check that recognizer and microphone arguments are appropriate type\n",
        "    if not isinstance(recognizer, sr.Recognizer):\n",
        "        raise TypeError(\"`recognizer` must be `Recognizer` instance\")\n",
        "\n",
        "    if not isinstance(microphone, sr.Microphone):\n",
        "        raise TypeError(\"`microphone` must be `Microphone` instance\")\n",
        "\n",
        "    # adjust the recognizer sensitivity to ambient noise and record audio\n",
        "    with microphone as source:\n",
        "        recognizer.adjust_for_ambient_noise(source)\n",
        "        audio = recognizer.listen(source)\n",
        "\n",
        "    # set up the response object\n",
        "    response = {\n",
        "        \"success\": True,\n",
        "        \"error\": None,\n",
        "        \"transcription\": None\n",
        "    }\n",
        "\n",
        "    try:\n",
        "        response[\"transcription\"] = recognizer.recognize_google(audio)\n",
        "    except sr.RequestError:\n",
        "        # API requests are limited per day, the error message will be updated later.\n",
        "        response[\"success\"] = False\n",
        "        response[\"error\"] = \"API unavailable\"\n",
        "    except sr.UnknownValueError:\n",
        "        response[\"error\"] = \"Unable to recognize speech\"\n",
        "\n",
        "    return response\n",
        "\n",
        "def process_speech(transcription):\n",
        "    dictionary = PyDictionary()\n",
        "    words = transcription.split()\n",
        "    for word in words:\n",
        "        synonyms = dictionary.synonym(word)\n",
        "        if synonyms:\n",
        "            print(f\"Synonyms for {word}: {', '.join(synonyms)}\")\n",
        "        else:\n",
        "            print(f\"No synonyms found for {word}\")\n",
        "\n",
        "def main():\n",
        "    recognizer = sr.Recognizer()\n",
        "    microphone = sr.Microphone()\n",
        "\n",
        "    with microphone as source:\n",
        "        print(\"Say something!\")\n",
        "        response = recognize_speech_from_mic(recognizer, microphone)\n",
        "\n",
        "    if response[\"success\"]:\n",
        "        print(\"You said: \", response[\"transcription\"])\n",
        "        process_speech(response[\"transcription\"])\n",
        "    else:\n",
        "        print(\"Error: \", response[\"error\"])\n",
        "\n",
        "if __name__ == \"__main__\":\n",
        "    main()"
      ]
    }
  ]
}