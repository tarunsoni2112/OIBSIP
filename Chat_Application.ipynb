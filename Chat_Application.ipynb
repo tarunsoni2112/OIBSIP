{
  "nbformat": 4,
  "nbformat_minor": 0,
  "metadata": {
    "colab": {
      "provenance": [],
      "authorship_tag": "ABX9TyObpVXki2WwZIv/wrTgCBnO",
      "include_colab_link": true
    },
    "kernelspec": {
      "name": "python3",
      "display_name": "Python 3"
    },
    "language_info": {
      "name": "python"
    }
  },
  "cells": [
    {
      "cell_type": "markdown",
      "metadata": {
        "id": "view-in-github",
        "colab_type": "text"
      },
      "source": [
        "<a href=\"https://colab.research.google.com/github/tarunsoni2112/OIBSIP/blob/main/Chat_Application.ipynb\" target=\"_parent\"><img src=\"https://colab.research.google.com/assets/colab-badge.svg\" alt=\"Open In Colab\"/></a>"
      ]
    },
    {
      "cell_type": "code",
      "execution_count": null,
      "metadata": {
        "id": "lnSm68VlhVym"
      },
      "outputs": [],
      "source": [
        "#create the server:\n",
        "import socket\n",
        "from threading import Thread\n",
        "\n",
        "# Server configuration\n",
        "SERVER_HOST = \"0.0.0.0\"\n",
        "SERVER_PORT = 5002\n",
        "clients = []\n",
        "nicknames = []\n",
        "\n",
        "# Create a TCP socket and bind it to the server address\n",
        "def start():\n",
        "    s = socket.socket()\n",
        "    s.setsockopt(socket.SOL_SOCKET, socket.SO_REUSEADDR, 1)\n",
        "    s.bind((SERVER_HOST, SERVER_PORT))\n",
        "    print(f\"[*] Listening as {SERVER_HOST}:{SERVER_PORT}\")\n",
        "    s.listen(5)\n",
        "    while True:\n",
        "        c, addr = s.accept()\n",
        "        print(f\"[+] {addr} connected.\")\n",
        "        clients.append(c)\n",
        "        c.send(\"NICK\".encode())\n",
        "        nickname = c.recv(1024).decode()\n",
        "        nicknames.append(nickname)\n",
        "        c.send(f\"Welcome, {nickname}!\".encode())\n",
        "        print(f\"The nickname of the client is {nickname}!\")\n",
        "        broadcast(f\"{nickname} joined the chat!\".encode(), c)\n",
        "        thread = Thread(target=handle, args=(c,))\n",
        "        thread.start()\n",
        "\n",
        "# Handle messages from clients\n",
        "def handle(client):\n",
        "    while True:\n",
        "        try:\n",
        "            message = client.recv(1024).decode()\n",
        "        except:\n",
        "            index = clients.index(client)\n",
        "            clients.remove(client)\n",
        "            client.close()\n",
        "            nickname = nicknames[index]\n",
        "            nicknames.remove(nickname)\n",
        "            broadcast(f\"{nickname} left the chat!\".encode(), client)\n",
        "            break\n",
        "\n",
        "        broadcast(message, client)\n",
        "\n",
        "# Broadcast messages to all clients\n",
        "def broadcast(message, sender):\n",
        "    for client in clients:\n",
        "        if client != sender:\n",
        "            client.send(message)\n",
        "\n",
        "if __name__ == \"__main__\":\n",
        "    start()"
      ]
    },
    {
      "cell_type": "code",
      "source": [
        "# create the client:\n",
        "import socket\n",
        "import threading\n",
        "\n",
        "# Client configuration\n",
        "SERVER_HOST = \"127.0.0.1\"\n",
        "SERVER_PORT = 5002\n",
        "\n",
        "# Create a TCP socket and connect to the server\n",
        "def start():\n",
        "    s = socket.socket()\n",
        "    s.connect((SERVER_HOST, SERVER_PORT))\n",
        "    print(f\"[+] Connected to {SERVER_HOST}:{SERVER_PORT}\")\n",
        "\n",
        "    # Receive and handle messages from the server\n",
        "    thread = threading.Thread(target=receive)\n",
        "    thread.start()\n",
        "\n",
        "    # Send messages to the server\n",
        "    while True:\n",
        "        message = f\"{nickname}: {input('')}\"\n",
        "        s.send(message.encode())\n",
        "\n",
        "# Receive messages from the server\n",
        "def receive():\n",
        "    while True:\n",
        "        try:\n",
        "            message = s.recv(1024).decode()\n",
        "            if message == \"NICK\":\n",
        "                s.send(nickname.encode())\n",
        "            else:\n",
        "                print(message)\n",
        "        except:\n",
        "            print(\"An error occurred!\")\n",
        "            s.close()\n",
        "            break\n",
        "\n",
        "# Set a name for the client\n",
        "nickname = input(\"Enter your nickname: \")\n",
        "\n",
        "# Start the client\n",
        "start()"
      ],
      "metadata": {
        "id": "310Exi6qhf4O"
      },
      "execution_count": null,
      "outputs": []
    }
  ]
}