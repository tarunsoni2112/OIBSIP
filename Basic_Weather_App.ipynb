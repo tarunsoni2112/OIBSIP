{
  "nbformat": 4,
  "nbformat_minor": 0,
  "metadata": {
    "colab": {
      "provenance": [],
      "authorship_tag": "ABX9TyPSODCkcA7HMLmF7kuVPRFB",
      "include_colab_link": true
    },
    "kernelspec": {
      "name": "python3",
      "display_name": "Python 3"
    },
    "language_info": {
      "name": "python"
    }
  },
  "cells": [
    {
      "cell_type": "markdown",
      "metadata": {
        "id": "view-in-github",
        "colab_type": "text"
      },
      "source": [
        "<a href=\"https://colab.research.google.com/github/tarunsoni2112/OIBSIP/blob/main/Basic_Weather_App.ipynb\" target=\"_parent\"><img src=\"https://colab.research.google.com/assets/colab-badge.svg\" alt=\"Open In Colab\"/></a>"
      ]
    },
    {
      "cell_type": "code",
      "source": [
        "import requests\n",
        "import json\n",
        "\n",
        "def get_weather_data(location):\n",
        "    api_key = \"Bd5e378503939ddaee76f12ad7a97608\"\n",
        "    base_url = \"http://api.openweathermap.org/data/2.5/weather?\"\n",
        "    complete_url = f\"{base_url}appid={api_key}&q={location}\"\n",
        "    response = requests.get(complete_url)\n",
        "    return response.json()\n",
        "\n",
        "def display_weather_data(data):\n",
        "    main_data = data[\"main\"]\n",
        "    temperature = main_data[\"temp\"] - 273.15\n",
        "    humidity = main_data[\"humidity\"]\n",
        "    weather_data = data[\"weather\"]\n",
        "    weather_description = weather_data[0][\"description\"]\n",
        "\n",
        "    print(f\"Temperature: {temperature:.2f}°C\")\n",
        "    print(f\"Humidity: {humidity}%\")\n",
        "    print(f\"Weather description: {weather_description}\")\n",
        "\n",
        "def main():\n",
        "    while True:\n",
        "        location = input(\"Enter a city or ZIP code: \")\n",
        "        data = get_weather_data(location)\n",
        "        if data[\"cod\"] != \"404\":\n",
        "            display_weather_data(data)\n",
        "            break\n",
        "        else:\n",
        "            print(\"City not found. Please try again.\")\n",
        "\n",
        "if __name__ == \"__main__\":\n",
        "    main()"
      ],
      "metadata": {
        "colab": {
          "base_uri": "https://localhost:8080/"
        },
        "id": "vG3e4woqfNhE",
        "outputId": "8c2c4400-b529-4e3d-b5a7-1bc42246025e"
      },
      "execution_count": 3,
      "outputs": [
        {
          "output_type": "stream",
          "name": "stdout",
          "text": [
            "Enter a city or ZIP code: 485446\n",
            "Temperature: 29.89°C\n",
            "Humidity: 26%\n",
            "Weather description: broken clouds\n"
          ]
        }
      ]
    }
  ]
}