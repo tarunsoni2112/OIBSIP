{
  "nbformat": 4,
  "nbformat_minor": 0,
  "metadata": {
    "colab": {
      "provenance": [],
      "authorship_tag": "ABX9TyNt1l18uUrL/NGTcoC77bnM",
      "include_colab_link": true
    },
    "kernelspec": {
      "name": "python3",
      "display_name": "Python 3"
    },
    "language_info": {
      "name": "python"
    }
  },
  "cells": [
    {
      "cell_type": "markdown",
      "metadata": {
        "id": "view-in-github",
        "colab_type": "text"
      },
      "source": [
        "<a href=\"https://colab.research.google.com/github/tarunsoni2112/OIBSIP/blob/main/BMI_Calculator.ipynb\" target=\"_parent\"><img src=\"https://colab.research.google.com/assets/colab-badge.svg\" alt=\"Open In Colab\"/></a>"
      ]
    },
    {
      "cell_type": "code",
      "source": [
        "def get_user_input():\n",
        "    while True:\n",
        "        try:\n",
        "            weight = float(input(\"Enter your weight (in kg): \"))\n",
        "            height = float(input(\"Enter your height (in meters): \"))\n",
        "            if weight <= 0 or height <= 0:\n",
        "                raise ValueError(\"Weight and height must be positive numbers.\")\n",
        "            return weight, height\n",
        "        except ValueError as e:\n",
        "            print(f\"Invalid input: {e}\")\n",
        "\n",
        "def calculate_bmi(weight, height):\n",
        "    bmi = weight / (height ** 2)\n",
        "    return bmi\n",
        "\n",
        "def classify_bmi(bmi):\n",
        "    if bmi < 18.5:\n",
        "        return \"Underweight\"\n",
        "    elif 18.5 <= bmi < 25:\n",
        "        return \"Normal\"\n",
        "    elif 25 <= bmi < 30:\n",
        "        return \"Overweight\"\n",
        "    else:\n",
        "        return \"Obese\"\n",
        "\n",
        "def main():\n",
        "    weight, height = get_user_input()\n",
        "    bmi = calculate_bmi(weight, height)\n",
        "    category = classify_bmi(bmi)\n",
        "    print(f\"Your BMI is {bmi:.2f} and you are {category}.\")\n",
        "\n",
        "if __name__ == \"__main__\":\n",
        "    main()"
      ],
      "metadata": {
        "colab": {
          "base_uri": "https://localhost:8080/"
        },
        "id": "l9nlMo0ZZB7v",
        "outputId": "4d673dbf-d3bb-4041-dceb-dfa691ce01df"
      },
      "execution_count": 5,
      "outputs": [
        {
          "output_type": "stream",
          "name": "stdout",
          "text": [
            "Enter your weight (in kg): 50\n",
            "Enter your height (in meters): 1.6764\n",
            "Your BMI is 17.79 and you are Underweight.\n"
          ]
        }
      ]
    }
  ]
}